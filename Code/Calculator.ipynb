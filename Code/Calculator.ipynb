{
  "nbformat": 4,
  "nbformat_minor": 0,
  "metadata": {
    "colab": {
      "provenance": [],
      "authorship_tag": "ABX9TyMS8WxeXJGJ2u+Dv39B8dkY",
      "include_colab_link": true
    },
    "kernelspec": {
      "name": "python3",
      "display_name": "Python 3"
    },
    "language_info": {
      "name": "python"
    }
  },
  "cells": [
    {
      "cell_type": "markdown",
      "metadata": {
        "id": "view-in-github",
        "colab_type": "text"
      },
      "source": [
        "<a href=\"https://colab.research.google.com/github/Samarjit-Roy/DDS/blob/main/Code/Calculator.ipynb\" target=\"_parent\"><img src=\"https://colab.research.google.com/assets/colab-badge.svg\" alt=\"Open In Colab\"/></a>"
      ]
    },
    {
      "cell_type": "code",
      "execution_count": 7,
      "metadata": {
        "colab": {
          "base_uri": "https://localhost:8080/"
        },
        "id": "12bTT8RiuoM2",
        "outputId": "a7f25f6a-e331-45ec-9aed-c9291766a5c6"
      },
      "outputs": [
        {
          "output_type": "stream",
          "name": "stdout",
          "text": [
            "Writing calculator.cpp\n"
          ]
        }
      ],
      "source": [
        "%%writefile calculator.cpp\n",
        "#include <iostream>\n",
        "using namespace std;\n",
        "\n",
        "void add(int x, int y){\n",
        "    int z= x+y;\n",
        "    cout << \"Addition of two number: \"  << x << \" & \" << y << \" : \";\n",
        "    cout << z;\n",
        "}\n",
        "\n",
        "void sub(int x, int y){\n",
        "    int z=x-y;\n",
        "    cout << \"Sub of two number: \"  << x << \" & \" << y << \" : \";\n",
        "    cout << z;\n",
        "}\n",
        "\n",
        "void mult(int x, int y){\n",
        "    int z=x*y;\n",
        "    cout << \"Multiplication of two number: \"  << x << \" & \" << y << \" : \";\n",
        "    cout << z;\n",
        "}\n",
        "\n",
        "void divi(int x, int y){\n",
        "    int z=x/y;\n",
        "    cout << \"Division of number \" << x << \" & \" << y << \" : \";\n",
        "    cout << z;\n",
        "}\n",
        "\n",
        "int main() {\n",
        "    int a, b, c;\n",
        "    cout << \"Enter the two no a and b: \";\n",
        "    cin >> a >> b;\n",
        "    cout << \"1. Add, 2. Sub, 3. Mult, 4. Div\";\n",
        "    cout << \"\\nChoose the number from above: \";\n",
        "    cin >> c;\n",
        "    cout << \"\\n\";\n",
        "    if (1==c){\n",
        "        add(a,b);}\n",
        "    else if (2==c){\n",
        "        sub(a,b);\n",
        "    }\n",
        "    else if (3==c){\n",
        "        mult(a,b);\n",
        "    }\n",
        "    else if (4==c){\n",
        "        divi (a,b);\n",
        "    }\n",
        "    else{\n",
        "        cout << \"Out of Scope: \";\n",
        "    }\n",
        "    return 0;\n",
        "}"
      ]
    },
    {
      "cell_type": "code",
      "source": [
        "!g++ calculator.cpp -o calculator"
      ],
      "metadata": {
        "id": "Ah3kaasyu5Fd"
      },
      "execution_count": 8,
      "outputs": []
    },
    {
      "cell_type": "code",
      "source": [
        "!./calculator"
      ],
      "metadata": {
        "colab": {
          "base_uri": "https://localhost:8080/"
        },
        "id": "zH4epWZwu9Sz",
        "outputId": "c384019c-ba06-4f56-a6e6-e23494aa0eed"
      },
      "execution_count": 9,
      "outputs": [
        {
          "output_type": "stream",
          "name": "stdout",
          "text": [
            "Enter the two no a and b: 10 10\n",
            "1. Add, 2. Sub, 3. Mult, 4. Div\n",
            "Choose the number from above: 1\n",
            "\n",
            "Addition of two number: 10 & 10 : 20"
          ]
        }
      ]
    }
  ]
}