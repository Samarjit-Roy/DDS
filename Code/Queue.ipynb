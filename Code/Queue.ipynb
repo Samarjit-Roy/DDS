{
  "nbformat": 4,
  "nbformat_minor": 0,
  "metadata": {
    "colab": {
      "provenance": [],
      "authorship_tag": "ABX9TyP1px9XIRebEobJnzEbFZre",
      "include_colab_link": true
    },
    "kernelspec": {
      "name": "python3",
      "display_name": "Python 3"
    },
    "language_info": {
      "name": "python"
    }
  },
  "cells": [
    {
      "cell_type": "markdown",
      "metadata": {
        "id": "view-in-github",
        "colab_type": "text"
      },
      "source": [
        "<a href=\"https://colab.research.google.com/github/Samarjit-Roy/DDS/blob/main/Code/Queue.ipynb\" target=\"_parent\"><img src=\"https://colab.research.google.com/assets/colab-badge.svg\" alt=\"Open In Colab\"/></a>"
      ]
    },
    {
      "cell_type": "code",
      "execution_count": 10,
      "metadata": {
        "colab": {
          "base_uri": "https://localhost:8080/"
        },
        "id": "RjXrT00CjhJL",
        "outputId": "e6de3256-e087-444e-c6ae-721ce4e6f084"
      },
      "outputs": [
        {
          "output_type": "stream",
          "name": "stdout",
          "text": [
            "Overwriting Queue.cpp\n"
          ]
        }
      ],
      "source": [
        "%%writefile Queue.cpp\n",
        "#include<iostream>\n",
        "#define SIZE 5\n",
        "using namespace std;\n",
        "\n",
        "class Queue{\n",
        "  int arr[SIZE], front, rear;\n",
        "public:\n",
        "  Queue(){\n",
        "    front = rear = -1;\n",
        "  }\n",
        "  void enqueue(int val){\n",
        "    if ((rear +1) % SIZE == front){\n",
        "      cout << \"Queue is full\" << endl;\n",
        "      return;\n",
        "    }\n",
        "    if (front == -1) front = 0;\n",
        "    rear = (rear + 1) % SIZE;\n",
        "    arr[rear] = val;\n",
        "  }\n",
        "\n",
        "  void dequeue(){\n",
        "    if (front == -1) {\n",
        "            cout << \"Queue Underflow\\n\";\n",
        "            return;\n",
        "        }\n",
        "        cout << \"Dequeued: \" << arr[front] << endl;\n",
        "        if (front == rear)\n",
        "            front = rear = -1;\n",
        "        else\n",
        "            front = (front + 1) % SIZE;\n",
        "    }\n",
        "\n",
        "  void traverse(){\n",
        "    if (front == -1) {\n",
        "            cout << \"Queue is empty\\n\";\n",
        "            return;\n",
        "        }\n",
        "        cout << \"Queue: \";\n",
        "        int i = front;\n",
        "        while (true) {\n",
        "            cout << arr[i] << \" \";\n",
        "            if (i == rear) break;\n",
        "            i = (i + 1) % SIZE;\n",
        "        }\n",
        "        cout << endl;\n",
        "  }\n",
        "\n",
        "  void search(int key){\n",
        "    if (front == -1) {\n",
        "            cout << \"Queue is empty\\n\";\n",
        "            return;\n",
        "        }\n",
        "        int i = front;\n",
        "        while (true) {\n",
        "            if (arr[i] == key) {\n",
        "                cout << \"Element \" << key << \" found at index \" << i << endl;\n",
        "                return;\n",
        "            }\n",
        "            if (i == rear) break;\n",
        "            i = (i + 1) % SIZE;\n",
        "        }\n",
        "        cout << \"Desire Element not found\\n\";\n",
        "    }\n",
        "  };\n",
        "\n",
        "  int main(){\n",
        "    Queue q;\n",
        "    q.enqueue(10);\n",
        "    q.enqueue(20);\n",
        "    q.enqueue(30);\n",
        "    q.enqueue(40);\n",
        "    q.traverse();\n",
        "    q.dequeue();\n",
        "    q.traverse();\n",
        "    q.search(20);\n",
        "    q.search(99);\n",
        "    return 0;\n",
        "  }\n"
      ]
    },
    {
      "cell_type": "code",
      "source": [
        "!g++ Queue.cpp -o Queue"
      ],
      "metadata": {
        "id": "5uHeVpYplbJ7"
      },
      "execution_count": 11,
      "outputs": []
    },
    {
      "cell_type": "code",
      "source": [
        "!./Queue"
      ],
      "metadata": {
        "colab": {
          "base_uri": "https://localhost:8080/"
        },
        "id": "3QTrqSxglkLU",
        "outputId": "701d4cc7-2180-49ec-fc63-98032a56258d"
      },
      "execution_count": 12,
      "outputs": [
        {
          "output_type": "stream",
          "name": "stdout",
          "text": [
            "Queue: 10 20 30 40 \n",
            "Dequeued: 10\n",
            "Queue: 20 30 40 \n",
            "Element 20 found at index 1\n",
            "Desire Element not found\n"
          ]
        }
      ]
    }
  ]
}