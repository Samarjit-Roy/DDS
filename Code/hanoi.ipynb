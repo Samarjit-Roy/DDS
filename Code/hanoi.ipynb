{
  "nbformat": 4,
  "nbformat_minor": 0,
  "metadata": {
    "colab": {
      "provenance": [],
      "authorship_tag": "ABX9TyMhvCAO3B+7ROxPCrHcA4uZ",
      "include_colab_link": true
    },
    "kernelspec": {
      "name": "python3",
      "display_name": "Python 3"
    },
    "language_info": {
      "name": "python"
    }
  },
  "cells": [
    {
      "cell_type": "markdown",
      "metadata": {
        "id": "view-in-github",
        "colab_type": "text"
      },
      "source": [
        "<a href=\"https://colab.research.google.com/github/Samarjit-Roy/DDS/blob/main/Code/hanoi.ipynb\" target=\"_parent\"><img src=\"https://colab.research.google.com/assets/colab-badge.svg\" alt=\"Open In Colab\"/></a>"
      ]
    },
    {
      "cell_type": "code",
      "execution_count": null,
      "metadata": {
        "colab": {
          "base_uri": "https://localhost:8080/"
        },
        "id": "fqjVatMTaFPc",
        "outputId": "749604a9-e246-497a-f9a9-eb59bc9e2f83"
      },
      "outputs": [
        {
          "output_type": "stream",
          "name": "stdout",
          "text": [
            "Overwriting lab4_hanoi.cpp\n"
          ]
        }
      ],
      "source": [
        "%%writefile lab4_hanoi.cpp\n",
        "#include<iostream>\n",
        "using namespace std;\n",
        "\n",
        "void hanoi(int n, char source, char destination, char auxiliary) {\n",
        "  if (n==1){\n",
        "    cout <<\"Move Disk 1 from \" << source << \" to \" << destination << endl;\n",
        "    return;\n",
        "  }\n",
        "  hanoi(n-1, source, auxiliary, destination);\n",
        "  cout << \"Move disk \" << n << \" from \" << source << \" to \" << destination << endl << endl;\n",
        "  hanoi(n-1, auxiliary, destination, source);\n",
        "}\n",
        "int main(){\n",
        "  int n=3;\n",
        "  hanoi(n, 'A', 'C', 'B');\n",
        "  return 0;\n",
        "}"
      ]
    },
    {
      "cell_type": "code",
      "source": [
        "!g++ lab4_hanoi.cpp"
      ],
      "metadata": {
        "id": "plEA2dD-apSc"
      },
      "execution_count": null,
      "outputs": []
    },
    {
      "cell_type": "code",
      "source": [
        "!./a.out"
      ],
      "metadata": {
        "colab": {
          "base_uri": "https://localhost:8080/"
        },
        "id": "Pepn9L2Sb-jF",
        "outputId": "23ea5870-4afd-4f8e-c559-fe0f29a1f010"
      },
      "execution_count": null,
      "outputs": [
        {
          "output_type": "stream",
          "name": "stdout",
          "text": [
            "Move Disk 1 from A to C\n",
            "Move disk 2 from A to B\n",
            "\n",
            "Move Disk 1 from C to B\n",
            "Move disk 3 from A to C\n",
            "\n",
            "Move Disk 1 from B to A\n",
            "Move disk 2 from B to C\n",
            "\n",
            "Move Disk 1 from A to C\n"
          ]
        }
      ]
    }
  ]
}